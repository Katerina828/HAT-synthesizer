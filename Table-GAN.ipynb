{
 "cells": [
  {
   "cell_type": "code",
   "execution_count": 3,
   "metadata": {},
   "outputs": [],
   "source": [
    "import matplotlib.pyplot as plt\n",
    "import numpy as np\n",
    "import pandas as pd\n",
    "from os import path\n",
    "import seaborn as sns\n",
    "import torch"
   ]
  },
  {
   "cell_type": "markdown",
   "metadata": {},
   "source": [
    "# Experiments about Table-GAN"
   ]
  },
  {
   "cell_type": "code",
   "execution_count": null,
   "metadata": {},
   "outputs": [],
   "source": [
    "from ShadowSynthesizer import ShadowSynthesizer\n",
    "from data_preprocess.adult import adult_preprocess\n",
    "from data_preprocess.transformer import BaseTransformer\n",
    "from sklearn.model_selection import train_test_split\n",
    "\n",
    "df_adult = pd.read_csv('./dataset/combined_set.csv')\n",
    "data, con_vars = adult_preprocess(df_adult)\n",
    "\n",
    "train_data, test_data = train_test_split(data, test_size=0.3, random_state=2)\n",
    "tf = BaseTransformer(train_data,con_vars)\n",
    "ganinput = tf.transform()\n",
    "print(\"Gan input shape:\", ganinput.shape)\n",
    "gan = ShadowSynthesizer(epochs = 300,seed=1,DP = False,batch_size = 500)\n",
    "    #gan.fit(ganinput,tf.data_info)\n",
    "myD = gan.fit(ganinput,tf.data_info)"
   ]
  },
  {
   "cell_type": "code",
   "execution_count": 5,
   "metadata": {},
   "outputs": [],
   "source": [
    "#tf.scaler.fit(train_data[tf.con_vars])\n",
    "#tf.enc.fit(train_data[tf.cat_vars])\n",
    "#trainsform testdata\n",
    "test_data = test_data[tf.columns_name]\n",
    "con_columns = tf.scaler.transform(test_data[tf.con_vars])\n",
    "cat_columns = tf.enc.transform(test_data[tf.cat_vars]).toarray()\n",
    "test = np.column_stack((con_columns,cat_columns))"
   ]
  },
  {
   "cell_type": "code",
   "execution_count": 22,
   "metadata": {},
   "outputs": [],
   "source": [
    "from sklearn.preprocessing import OrdinalEncoder\n",
    "from utils import adult_postprocess\n",
    "from Attack_experiment import add_true_label\n",
    "def add_label_to_syn(gan,tf,Discriminator):\n",
    "    samples = gan.sample(n=gan.ganinput.shape[0])\n",
    "    data_inverse = tf.inverse_transform(samples)\n",
    "    syn = pd.DataFrame(data_inverse,index=None,columns = tf.columns_name)\n",
    "    syn = adult_postprocess(syn)\n",
    "    syn_test = syn[tf.columns_name]\n",
    "    con_columns = tf.scaler.transform(syn_test[tf.con_vars])\n",
    "    cat_columns = tf.enc.transform(syn_test[tf.cat_vars]).toarray()\n",
    "    syn_test = np.column_stack((con_columns,cat_columns))\n",
    "    #load training data\n",
    "    data_inverse = tf.inverse_transform(ganinput)\n",
    "    real = pd.DataFrame(data_inverse,index=None,columns = tf.columns_name)\n",
    "    real = adult_postprocess(real)\n",
    "    \n",
    "    enc = OrdinalEncoder()\n",
    "    colomns =['WorkClass', 'EducationNum', 'MaritalStatus', 'Occupation',\n",
    "       'Relationship', 'Race', 'Gender', 'CapitalGain', 'CapitalLoss',\n",
    "       'HoursPerWeek', 'NativeCountry', 'Income']\n",
    "    real[colomns] = enc.fit_transform(real[colomns])\n",
    "    syn[colomns] = enc.fit_transform(syn[colomns])\n",
    "    new_syn = add_true_label(real,syn)\n",
    "    label = new_syn.pop('label')\n",
    "    \n",
    "    syn_test =torch.from_numpy(syn_test.astype('float32')).to(gan.device)\n",
    "    D_in_pred = Discriminator(syn_test)\n",
    "    syn_test = torch.cat([syn_test,D_in_pred],dim =1).detach().cpu().numpy()\n",
    "    return syn_test, label"
   ]
  },
  {
   "cell_type": "code",
   "execution_count": 23,
   "metadata": {},
   "outputs": [
    {
     "name": "stdout",
     "output_type": "stream",
     "text": [
      "Begin sample，seed= 0\n",
      "Inverse transform completed!\n",
      "Inverse transform completed!\n",
      "(28411, 13)\n"
     ]
    }
   ],
   "source": [
    "syn, label =add_label_to_syn(gan,tf,myD)\n"
   ]
  },
  {
   "cell_type": "code",
   "execution_count": 6,
   "metadata": {},
   "outputs": [],
   "source": [
    "def MI_attack(Discriminator,D_in,D_out):\n",
    "    D_in = torch.from_numpy(D_in[0:10000].astype('float32')).to(gan.device)\n",
    "    D_out = torch.from_numpy(D_out[0:10000].astype('float32')).to(gan.device)\n",
    "\n",
    "    D_in_pred = Discriminator(D_in)\n",
    "    D_out_pred = Discriminator(D_out)\n",
    "\n",
    "    D1 = torch.cat([D_in,D_in_pred],dim =1)\n",
    "    D2 = torch.cat([D_out,D_out_pred],dim =1)\n",
    "\n",
    "    label_in = torch.ones(10000,1).to(gan.device)\n",
    "    label_out = torch.zeros(10000,1).to(gan.device)\n",
    "\n",
    "    D1 = torch.cat([D1,label_in],dim =1).detach().cpu().numpy()\n",
    "    D2 = torch.cat([D2,label_out],dim =1).detach().cpu().numpy()\n",
    "    dataset = np.concatenate([D1,D2],axis=0)\n",
    "    return dataset\n",
    "dataset = MI_attack(myD,ganinput,test)"
   ]
  },
  {
   "cell_type": "code",
   "execution_count": 7,
   "metadata": {},
   "outputs": [
    {
     "name": "stdout",
     "output_type": "stream",
     "text": [
      "(14000, 109) (6000, 109) (14000,) (6000,)\n"
     ]
    },
    {
     "name": "stderr",
     "output_type": "stream",
     "text": [
      "C:\\Users\\HAT\\Anaconda3\\lib\\site-packages\\sklearn\\neural_network\\multilayer_perceptron.py:566: ConvergenceWarning: Stochastic Optimizer: Maximum iterations (200) reached and the optimization hasn't converged yet.\n",
      "  % self.max_iter, ConvergenceWarning)\n"
     ]
    },
    {
     "data": {
      "text/plain": [
       "MLPClassifier(activation='relu', alpha=0.0001, batch_size='auto', beta_1=0.9,\n",
       "              beta_2=0.999, early_stopping=False, epsilon=1e-08,\n",
       "              hidden_layer_sizes=(100,), learning_rate='constant',\n",
       "              learning_rate_init=0.001, max_iter=200, momentum=0.9,\n",
       "              n_iter_no_change=10, nesterovs_momentum=True, power_t=0.5,\n",
       "              random_state=None, shuffle=True, solver='adam', tol=0.0001,\n",
       "              validation_fraction=0.1, verbose=False, warm_start=False)"
      ]
     },
     "execution_count": 7,
     "metadata": {},
     "output_type": "execute_result"
    }
   ],
   "source": [
    "from sklearn.model_selection import train_test_split\n",
    "from MLclassifier import main\n",
    "from sklearn.neural_network import MLPClassifier\n",
    "\n",
    "y = dataset[:,-1]\n",
    "X = np.delete(dataset,-1,axis=1)\n",
    "\n",
    "X_train, X_test, y_train, y_test = train_test_split(X,y, test_size=0.3, random_state=2)\n",
    "print(X_train.shape,X_test.shape,y_train.shape,y_test.shape)\n",
    "classifier = MLPClassifier(hidden_layer_sizes=(100, ),max_iter = 200)\n",
    "classifier.fit(X_train, y_train)"
   ]
  },
  {
   "cell_type": "code",
   "execution_count": 37,
   "metadata": {},
   "outputs": [
    {
     "data": {
      "text/plain": [
       "(0.0, 1.05)"
      ]
     },
     "execution_count": 37,
     "metadata": {},
     "output_type": "execute_result"
    },
    {
     "data": {
      "image/png": "[encoded data removed]",
      "text/plain": [
       "<Figure size 432x288 with 1 Axes>"
      ]
     },
     "metadata": {
      "needs_background": "light"
     },
     "output_type": "display_data"
    }
   ],
   "source": [
    "from sklearn.metrics import precision_recall_curve\n",
    "from sklearn import metrics\n",
    "y_score = classifier.predict_proba(syn)[:,1]\n",
    "precision, recall, thresholds = precision_recall_curve(label, y_score)\n",
    "AUC = metrics.auc(recall,precision)\n",
    "plt.plot(recall,precision,label='Average precision-recall score: {0:0.2f}'.format(\n",
    "      AUC))\n",
    "plt.legend()\n",
    "plt.xlim([0.0, 1.0])\n",
    "plt.ylim([0.0, 1.05])"
   ]
  },
  {
   "cell_type": "code",
   "execution_count": 35,
   "metadata": {},
   "outputs": [
    {
     "data": {
      "text/plain": [
       "0.14632356424093912"
      ]
     },
     "execution_count": 35,
     "metadata": {},
     "output_type": "execute_result"
    }
   ],
   "source": [
    "from sklearn.metrics import average_precision_score\n",
    "average_precision = average_precision_score(label, y_score)\n",
    "average_precision"
   ]
  },
  {
   "cell_type": "code",
   "execution_count": 33,
   "metadata": {},
   "outputs": [
    {
     "data": {
      "text/plain": [
       "0.14628592440292418"
      ]
     },
     "execution_count": 33,
     "metadata": {},
     "output_type": "execute_result"
    }
   ],
   "source": [
    "AUC"
   ]
  },
  {
   "cell_type": "code",
   "execution_count": null,
   "metadata": {},
   "outputs": [],
   "source": [
    "from sklearn import svm, datasets\n",
    "from sklearn.neural_network import MLPClassifier\n",
    "from Attack_experiment import unique_exam,compute_intersection,add_true_label\n",
    "from sklearn import metrics\n",
    "\n",
    "def train_classifier(train):\n",
    "    train = train.drop(columns=['counts_in_real'])\n",
    "    y_train = train.pop('label')\n",
    "    X_train = train.values\n",
    "    #classifier = svm.LinearSVC(random_state=random_state)\n",
    "    #classifier.fit(X_train, y_train)\n",
    "    classifier = MLPClassifier(hidden_layer_sizes=(100, ),max_iter = 200)\n",
    "    classifier.fit(X_train, y_train)\n",
    "    \n",
    "    return classifier\n",
    "\n",
    "def predict_prob(model,test):\n",
    "    test  = test.drop(columns=['counts_in_real'])\n",
    "    y_test = test.pop('label')\n",
    "    X_test = test.values\n",
    "    y_score = model.predict_proba(X_test)[:,1]\n",
    "    precision, recall, thresholds = precision_recall_curve(y_test, y_score)\n",
    "    AUC = metrics.auc(recall,precision)\n",
    "    return precision, recall, thresholds,AUC"
   ]
  },
  {
   "cell_type": "code",
   "execution_count": 14,
   "metadata": {},
   "outputs": [],
   "source": [
    "from sklearn.preprocessing import OrdinalEncoder\n",
    "def load_adult_epoches_for_ml(seed):\n",
    "    real = pd.read_csv('./GenerateData/Adult/Adult_train.csv') \n",
    "    enc = OrdinalEncoder()\n",
    "    real = ordinal_encode(enc,real)\n",
    "    \n",
    "    test = pd.read_csv('./GenerateData/Adult/Adult_test.csv')\n",
    "    test = ordinal_encode(enc,test)\n",
    "    \n",
    "    syn = pd.read_csv('./GenerateData/Adult/epoch'+str(seed)+'/adult_syn_seed1_'+'epoch'+str(300)+'.csv') \n",
    "    syn = ordinal_encode(enc,syn)\n",
    "\n",
    "    return real, syn"
   ]
  },
  {
   "cell_type": "code",
   "execution_count": 7,
   "metadata": {},
   "outputs": [],
   "source": [
    "def ordinal_encode(enc,data):\n",
    "    colomns = [col for col in data.columns if data[col].dtype==\"object\"]\n",
    "    data[colomns] = enc.fit_transform(data[colomns])\n",
    "    return data\n",
    "def cut_dataset(dataset,n,perlen):\n",
    "    np.random.seed(3000)\n",
    "    sub_fake = []\n",
    "    rand_ind = np.random.permutation(perlen*n)\n",
    "    for i in range(n):\n",
    "        indices = rand_ind[perlen*i : perlen*i + perlen]\n",
    "        sub_fake.append(dataset.iloc[indices]) \n",
    "    return sub_fake"
   ]
  },
  {
   "cell_type": "code",
   "execution_count": 15,
   "metadata": {},
   "outputs": [
    {
     "name": "stdout",
     "output_type": "stream",
     "text": [
      "(28238, 13)\n"
     ]
    }
   ],
   "source": [
    "from Attack_experiment import unique_exam,compute_intersection,add_true_label,train_classifier\n",
    "real, syn = load_adult_epoches_for_ml(seed=1)\n",
    "new_syn = add_true_label(real,syn)"
   ]
  },
  {
   "cell_type": "code",
   "execution_count": 16,
   "metadata": {},
   "outputs": [
    {
     "data": {
      "text/html": [
       "<div>\n",
       "<style scoped>\n",
       "    .dataframe tbody tr th:only-of-type {\n",
       "        vertical-align: middle;\n",
       "    }\n",
       "\n",
       "    .dataframe tbody tr th {\n",
       "        vertical-align: top;\n",
       "    }\n",
       "\n",
       "    .dataframe thead th {\n",
       "        text-align: right;\n",
       "    }\n",
       "</style>\n",
       "<table border=\"1\" class=\"dataframe\">\n",
       "  <thead>\n",
       "    <tr style=\"text-align: right;\">\n",
       "      <th></th>\n",
       "      <th>Age</th>\n",
       "      <th>WorkClass</th>\n",
       "      <th>EducationNum</th>\n",
       "      <th>MaritalStatus</th>\n",
       "      <th>Occupation</th>\n",
       "      <th>Relationship</th>\n",
       "      <th>Race</th>\n",
       "      <th>Gender</th>\n",
       "      <th>CapitalGain</th>\n",
       "      <th>CapitalLoss</th>\n",
       "      <th>HoursPerWeek</th>\n",
       "      <th>NativeCountry</th>\n",
       "      <th>Income</th>\n",
       "      <th>freq</th>\n",
       "      <th>counts_in_real</th>\n",
       "      <th>label</th>\n",
       "    </tr>\n",
       "  </thead>\n",
       "  <tbody>\n",
       "    <tr>\n",
       "      <td>0</td>\n",
       "      <td>40.0</td>\n",
       "      <td>2.0</td>\n",
       "      <td>7.0</td>\n",
       "      <td>0.0</td>\n",
       "      <td>6.0</td>\n",
       "      <td>0.0</td>\n",
       "      <td>4.0</td>\n",
       "      <td>1.0</td>\n",
       "      <td>2.0</td>\n",
       "      <td>2.0</td>\n",
       "      <td>17.0</td>\n",
       "      <td>1.0</td>\n",
       "      <td>0.0</td>\n",
       "      <td>2</td>\n",
       "      <td>0</td>\n",
       "      <td>0</td>\n",
       "    </tr>\n",
       "    <tr>\n",
       "      <td>1</td>\n",
       "      <td>36.0</td>\n",
       "      <td>2.0</td>\n",
       "      <td>9.0</td>\n",
       "      <td>0.0</td>\n",
       "      <td>4.0</td>\n",
       "      <td>0.0</td>\n",
       "      <td>4.0</td>\n",
       "      <td>1.0</td>\n",
       "      <td>2.0</td>\n",
       "      <td>2.0</td>\n",
       "      <td>20.0</td>\n",
       "      <td>0.0</td>\n",
       "      <td>0.0</td>\n",
       "      <td>1</td>\n",
       "      <td>0</td>\n",
       "      <td>0</td>\n",
       "    </tr>\n",
       "    <tr>\n",
       "      <td>2</td>\n",
       "      <td>21.0</td>\n",
       "      <td>2.0</td>\n",
       "      <td>9.0</td>\n",
       "      <td>1.0</td>\n",
       "      <td>2.0</td>\n",
       "      <td>4.0</td>\n",
       "      <td>4.0</td>\n",
       "      <td>1.0</td>\n",
       "      <td>2.0</td>\n",
       "      <td>2.0</td>\n",
       "      <td>22.0</td>\n",
       "      <td>1.0</td>\n",
       "      <td>0.0</td>\n",
       "      <td>1</td>\n",
       "      <td>1</td>\n",
       "      <td>1</td>\n",
       "    </tr>\n",
       "    <tr>\n",
       "      <td>3</td>\n",
       "      <td>31.0</td>\n",
       "      <td>2.0</td>\n",
       "      <td>10.0</td>\n",
       "      <td>1.0</td>\n",
       "      <td>7.0</td>\n",
       "      <td>1.0</td>\n",
       "      <td>4.0</td>\n",
       "      <td>0.0</td>\n",
       "      <td>2.0</td>\n",
       "      <td>2.0</td>\n",
       "      <td>17.0</td>\n",
       "      <td>1.0</td>\n",
       "      <td>0.0</td>\n",
       "      <td>1</td>\n",
       "      <td>2</td>\n",
       "      <td>1</td>\n",
       "    </tr>\n",
       "    <tr>\n",
       "      <td>4</td>\n",
       "      <td>40.0</td>\n",
       "      <td>4.0</td>\n",
       "      <td>10.0</td>\n",
       "      <td>0.0</td>\n",
       "      <td>3.0</td>\n",
       "      <td>5.0</td>\n",
       "      <td>2.0</td>\n",
       "      <td>0.0</td>\n",
       "      <td>2.0</td>\n",
       "      <td>2.0</td>\n",
       "      <td>24.0</td>\n",
       "      <td>1.0</td>\n",
       "      <td>1.0</td>\n",
       "      <td>1</td>\n",
       "      <td>0</td>\n",
       "      <td>0</td>\n",
       "    </tr>\n",
       "  </tbody>\n",
       "</table>\n",
       "</div>"
      ],
      "text/plain": [
       "    Age  WorkClass  EducationNum  MaritalStatus  Occupation  Relationship  \\\n",
       "0  40.0        2.0           7.0            0.0         6.0           0.0   \n",
       "1  36.0        2.0           9.0            0.0         4.0           0.0   \n",
       "2  21.0        2.0           9.0            1.0         2.0           4.0   \n",
       "3  31.0        2.0          10.0            1.0         7.0           1.0   \n",
       "4  40.0        4.0          10.0            0.0         3.0           5.0   \n",
       "\n",
       "   Race  Gender  CapitalGain  CapitalLoss  HoursPerWeek  NativeCountry  \\\n",
       "0   4.0     1.0          2.0          2.0          17.0            1.0   \n",
       "1   4.0     1.0          2.0          2.0          20.0            0.0   \n",
       "2   4.0     1.0          2.0          2.0          22.0            1.0   \n",
       "3   4.0     0.0          2.0          2.0          17.0            1.0   \n",
       "4   2.0     0.0          2.0          2.0          24.0            1.0   \n",
       "\n",
       "   Income  freq  counts_in_real  label  \n",
       "0     0.0     2               0      0  \n",
       "1     0.0     1               0      0  \n",
       "2     0.0     1               1      1  \n",
       "3     0.0     1               2      1  \n",
       "4     1.0     1               0      0  "
      ]
     },
     "execution_count": 16,
     "metadata": {},
     "output_type": "execute_result"
    }
   ],
   "source": [
    "new_syn.head()"
   ]
  },
  {
   "cell_type": "code",
   "execution_count": 26,
   "metadata": {},
   "outputs": [
    {
     "data": {
      "text/plain": [
       "0.32623566162828455"
      ]
     },
     "execution_count": 26,
     "metadata": {},
     "output_type": "execute_result"
    }
   ],
   "source": [
    "from sklearn.datasets import make_regression\n",
    "from sklearn.ensemble import GradientBoostingRegressor\n",
    "from sklearn.model_selection import train_test_split\n",
    "y = new_syn.freq.values\n",
    "X = new_syn.drop(columns=['freq','counts_in_real','label']).values\n",
    "X_train, X_test, y_train, y_test = train_test_split(X,y ,test_size=0.3, shuffle=False)\n",
    "reg = GradientBoostingRegressor(random_state=0).fit(X_train, y_train)\n",
    "reg.score(X_test, y_test)"
   ]
  },
  {
   "cell_type": "code",
   "execution_count": 44,
   "metadata": {},
   "outputs": [
    {
     "name": "stdout",
     "output_type": "stream",
     "text": [
      "(28136, 13)\n",
      "(31655, 14)\n"
     ]
    }
   ],
   "source": [
    "#train attack model\n",
    "\n",
    "from sklearn.neural_network import MLPClassifier\n",
    "from Attack_experiment import unique_exam,compute_intersection,add_true_label\n",
    "from sklearn import metrics\n",
    "\n",
    "def load_epoches_adult(seed):\n",
    "    real = pd.read_csv('./GenerateData/Adult/Adult_train.csv') \n",
    "    enc = OrdinalEncoder()\n",
    "    real = ordinal_encode(enc,real)\n",
    "\n",
    "    syn = pd.read_csv('./GenerateData/Adult/epoch'+str(seed)+'/adult_syn_seed1_'+'epoch'+str(300)+'.csv')\n",
    "    syn = ordinal_encode(enc,syn)\n",
    "\n",
    "    shadow = pd.read_csv('./GenerateData/Adult/epoch'+str(seed)+'/adult_shadow_seed1_'+'epoch'+str(300)+'.csv')\n",
    "    shadow = ordinal_encode(enc,shadow)\n",
    "\n",
    "    return real,syn,shadow\n",
    "\n",
    "def train_classifier(train):\n",
    "    train = train.drop(columns=['counts_in_real'])\n",
    "    y_train = train.pop('label')\n",
    "    X_train = train.values\n",
    "    print(X_train.shape)\n",
    "    #classifier = svm.LinearSVC(random_state=random_state)\n",
    "    #classifier.fit(X_train, y_train)\n",
    "    classifier = MLPClassifier(hidden_layer_sizes=(100, ),max_iter = 200)\n",
    "    classifier.fit(X_train, y_train)\n",
    "    return classifier\n",
    "\n",
    "\n",
    "real,syn,shadow = load_epoches_adult(seed=1)\n",
    "#new_syn = add_true_label(real,syn)\n",
    "new_shadow = add_true_label(syn,shadow)\n",
    "classifier= train_classifier(new_shadow)\n",
    "\n",
    "\n",
    "\n"
   ]
  },
  {
   "cell_type": "code",
   "execution_count": 58,
   "metadata": {},
   "outputs": [],
   "source": [
    "#Preparing testing data\n",
    "D_in = pd.read_csv('./GenerateData/Adult/Adult_train.csv') \n",
    "enc = OrdinalEncoder()\n",
    "real = ordinal_encode(enc,D_in)\n",
    "D_out = pd.read_csv('./GenerateData/Adult/Adult_test.csv')\n",
    "D_out = ordinal_encode(enc,D_out)\n",
    "\n",
    "X = pd.concat([D_in[:10000],D_out[:10000]])\n",
    "X = np.concatenate((X,freq_pred.reshape(-1,1)), axis=1)\n",
    "\n",
    "y = np.concatenate((np.zeros(10000),np.ones(10000)), axis=0)"
   ]
  },
  {
   "cell_type": "code",
   "execution_count": 66,
   "metadata": {},
   "outputs": [],
   "source": [
    "from sklearn.metrics import roc_auc_score\n",
    "def predict_prob(model,X_test,y_test):\n",
    "    y_score = model.predict_proba(X_test)[:,1]\n",
    "    AUCROC = roc_auc_score(y_test,y_score)\n",
    "    #precision, recall, thresholds = precision_recall_curve(y_test, y_score)\n",
    "    #AUC = metrics.auc(recall,precision)\n",
    "    return AUCROC"
   ]
  },
  {
   "cell_type": "code",
   "execution_count": null,
   "metadata": {},
   "outputs": [],
   "source": []
  },
  {
   "cell_type": "code",
   "execution_count": 56,
   "metadata": {},
   "outputs": [],
   "source": [
    "freq_pred = reg.predict(X.values)"
   ]
  },
  {
   "cell_type": "code",
   "execution_count": 68,
   "metadata": {},
   "outputs": [],
   "source": [
    "AUCROC = predict_prob(classifier,X,y)"
   ]
  },
  {
   "cell_type": "code",
   "execution_count": 69,
   "metadata": {},
   "outputs": [
    {
     "data": {
      "text/plain": [
       "0.50081571"
      ]
     },
     "execution_count": 69,
     "metadata": {},
     "output_type": "execute_result"
    }
   ],
   "source": [
    "AUCROC"
   ]
  }
 ],
 "metadata": {
  "kernelspec": {
   "display_name": "Python 3",
   "language": "python",
   "name": "python3"
  },
  "language_info": {
   "codemirror_mode": {
    "name": "ipython",
    "version": 3
   },
   "file_extension": ".py",
   "mimetype": "text/x-python",
   "name": "python",
   "nbconvert_exporter": "python",
   "pygments_lexer": "ipython3",
   "version": "3.7.4"
  }
 },
 "nbformat": 4,
 "nbformat_minor": 4
}
